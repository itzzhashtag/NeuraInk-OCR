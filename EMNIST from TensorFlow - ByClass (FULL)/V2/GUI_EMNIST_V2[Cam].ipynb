{
 "cells": [
  {
   "cell_type": "code",
   "execution_count": 1,
   "id": "c72050e1",
   "metadata": {},
   "outputs": [],
   "source": [
    "# Combined Brush + Camera Mode Handwriting Recognition\n",
    "import tkinter as tk\n",
    "from tkinter import filedialog\n",
    "from PIL import Image, ImageDraw, ImageOps\n",
    "import numpy as np\n",
    "import threading\n",
    "import string\n",
    "import cv2\n",
    "import customtkinter as ctk\n",
    "from tensorflow.keras.models import load_model"
   ]
  },
  {
   "cell_type": "code",
   "execution_count": 2,
   "id": "d6982401",
   "metadata": {},
   "outputs": [
    {
     "name": "stderr",
     "output_type": "stream",
     "text": [
      "WARNING:absl:Compiled the loaded model, but the compiled metrics have yet to be built. `model.compile_metrics` will be empty until you train or evaluate the model.\n",
      "WARNING:absl:Compiled the loaded model, but the compiled metrics have yet to be built. `model.compile_metrics` will be empty until you train or evaluate the model.\n"
     ]
    }
   ],
   "source": [
    "# Load both models\n",
    "model_brush = load_model('EMNIST_V2_model.h5')\n",
    "model_camera = load_model('EMNIST_V2_model.h5')\n",
    "\n",
    "label_map = list(string.digits + string.ascii_uppercase + string.ascii_lowercase)\n",
    "emnist_labels = [chr(i) for i in range(48, 58)] + [chr(i) for i in range(65, 91)] + [chr(i) for i in range(97, 123)]"
   ]
  },
  {
   "cell_type": "code",
   "execution_count": 3,
   "id": "203bfdf3",
   "metadata": {},
   "outputs": [],
   "source": [
    "def get_label(index):\n",
    "    return emnist_labels[index]"
   ]
  },
  {
   "cell_type": "code",
   "execution_count": 4,
   "id": "5a3f3874",
   "metadata": {},
   "outputs": [],
   "source": [
    "def run_camera_mode(app_ref):\n",
    "    cap = cv2.VideoCapture(0)\n",
    "    cap.set(cv2.CAP_PROP_FRAME_WIDTH, 1280)\n",
    "    cap.set(cv2.CAP_PROP_FRAME_HEIGHT, 720)\n",
    "\n",
    "    while cap.isOpened():\n",
    "        ret, frame = cap.read()\n",
    "        if not ret:\n",
    "            break\n",
    "\n",
    "        h, w = frame.shape[:2]\n",
    "        min_dim = min(h, w) - 200\n",
    "        center_crop = frame[h//2 - min_dim//2:h//2 + min_dim//2,\n",
    "                            w//2 - min_dim//2:w//2 + min_dim//2]\n",
    "\n",
    "        gray = cv2.cvtColor(center_crop, cv2.COLOR_BGR2GRAY)\n",
    "        size = max(*gray.shape)\n",
    "        padded = np.full((size, size), 255, dtype=np.uint8)\n",
    "        y_offset = (size - gray.shape[0]) // 2\n",
    "        x_offset = (size - gray.shape[1]) // 2\n",
    "        padded[y_offset:y_offset+gray.shape[0], x_offset:x_offset+gray.shape[1]] = gray\n",
    "\n",
    "        resized = cv2.resize(padded, (28, 28), interpolation=cv2.INTER_LANCZOS4)\n",
    "        normalized = resized.astype('float32') / 255.0\n",
    "        reshaped = normalized.reshape(1, 28, 28, 1)\n",
    "\n",
    "        pred = model_camera.predict(reshaped, verbose=0)\n",
    "        class_id = np.argmax(pred)\n",
    "        confidence = np.max(pred)\n",
    "        label = get_label(class_id)\n",
    "\n",
    "        canvas = cv2.resize(resized, (200, 200), interpolation=cv2.INTER_NEAREST)\n",
    "        canvas_bgr = cv2.cvtColor(canvas, cv2.COLOR_GRAY2BGR)\n",
    "        cv2.putText(canvas_bgr, f\"{label} ({confidence*100:.1f}%)\", (10, 190),\n",
    "                    cv2.FONT_HERSHEY_SIMPLEX, 0.7, (0, 255, 0), 2)\n",
    "\n",
    "        cv2.imshow(\"Model Input (What it Sees)\", canvas_bgr)\n",
    "        cv2.imshow(\"Camera [Beta]->Press 'Space' to EXIT\", center_crop)\n",
    "\n",
    "        key = cv2.waitKey(1)\n",
    "        if key == 32:  # Spacebar\n",
    "            break\n",
    "\n",
    "    cap.release()\n",
    "    cv2.destroyAllWindows()\n",
    "    app_ref.root.deiconify()\n",
    "\n"
   ]
  },
  {
   "cell_type": "code",
   "execution_count": 5,
   "id": "0b03dbb8",
   "metadata": {},
   "outputs": [
    {
     "name": "stdout",
     "output_type": "stream",
     "text": [
      "\u001b[1m1/1\u001b[0m \u001b[32m━━━━━━━━━━━━━━━━━━━━\u001b[0m\u001b[37m\u001b[0m \u001b[1m0s\u001b[0m 137ms/step\n"
     ]
    }
   ],
   "source": [
    "class DrawingApp:\n",
    "    def __init__(self, root):\n",
    "        self.root = root\n",
    "        self.root.title(\"OCR System - HASHTAG\")\n",
    "        self.root.geometry(\"500x700\")\n",
    "        self.root.resizable(False, False)\n",
    "\n",
    "        self.brush_size = tk.IntVar(value=12)\n",
    "        self.canvas_size = 400\n",
    "        self.canvas = ctk.CTkCanvas(root, width=self.canvas_size, height=self.canvas_size, bg='white')\n",
    "        self.canvas.pack(pady=10)\n",
    "\n",
    "        self.image = Image.new(\"L\", (self.canvas_size, self.canvas_size), color=255)\n",
    "        self.draw = ImageDraw.Draw(self.image)\n",
    "        self.canvas.bind('<B1-Motion>', self.draw_lines)\n",
    "\n",
    "        slider_frame = ctk.CTkFrame(root)\n",
    "        slider_frame.pack(pady=10)\n",
    "        ctk.CTkLabel(slider_frame, text=\"Brush Size\").pack()\n",
    "        ctk.CTkSlider(slider_frame, from_=5, to=50, variable=self.brush_size, orientation=\"horizontal\").pack()\n",
    "\n",
    "        btn_frame = ctk.CTkFrame(root)\n",
    "        btn_frame.pack(pady=10)\n",
    "        ctk.CTkButton(btn_frame, text=\"Predict\", command=self.predict).pack(side='left', padx=5)\n",
    "        ctk.CTkButton(btn_frame, text=\"Clear\", command=self.clear).pack(side='left', padx=5)\n",
    "        ctk.CTkButton(btn_frame, text=\"Save\", command=self.save_image).pack(side='left', padx=5)\n",
    "\n",
    "        # Add camera button in its own row below the others\n",
    "        ctk.CTkButton(root, text=\"Camera [Beta]\", command=self.launch_camera_mode).pack(pady=(5, 10))\n",
    "\n",
    "\n",
    "        \n",
    "\n",
    "        self.result = ctk.CTkLabel(root, text=\"Draw a character and press Predict\", font=ctk.CTkFont(size=18, weight=\"bold\"))\n",
    "        self.result.pack(pady=10)\n",
    "\n",
    "    def draw_lines(self, event):\n",
    "        x, y = event.x, event.y\n",
    "        r = self.brush_size.get() // 2\n",
    "        self.canvas.create_oval(x - r, y - r, x + r, y + r, fill='black', outline='black')\n",
    "        self.draw.ellipse([x - r, y - r, x + r, y + r], fill=0)\n",
    "\n",
    "    def clear(self):\n",
    "        self.canvas.delete('all')\n",
    "        self.draw.rectangle([0, 0, self.canvas_size, self.canvas_size], fill=255)\n",
    "        self.result.configure(text=\"Draw a character and press Predict\")\n",
    "\n",
    "    def save_image(self):\n",
    "        file_path = filedialog.asksaveasfilename(defaultextension=\".png\", filetypes=[(\"PNG files\", \"*.png\")])\n",
    "        if file_path:\n",
    "            self.image.save(file_path)\n",
    "\n",
    "    def predict(self):\n",
    "        img = self.image.resize((28, 28))\n",
    "        img = ImageOps.invert(img)\n",
    "        img = np.array(img).astype(np.float32) / 255.0\n",
    "        img = img.reshape(1, 28, 28, 1)\n",
    "        pred = model_brush.predict(img)\n",
    "        class_idx = np.argmax(pred)\n",
    "        prediction = label_map[class_idx]\n",
    "        confidence = np.max(pred) * 100\n",
    "        self.result.configure(text=f\"Prediction: {prediction} ({confidence:.2f}%)\")\n",
    "\n",
    "    def launch_camera_mode(self):\n",
    "        self.root.withdraw()\n",
    "        threading.Thread(target=run_camera_mode, args=(self,), daemon=True).start()\n",
    "\n",
    "if __name__ == '__main__':\n",
    "    root = ctk.CTk()\n",
    "    app = DrawingApp(root)\n",
    "    root.mainloop()\n"
   ]
  }
 ],
 "metadata": {
  "kernelspec": {
   "display_name": "Python 3",
   "language": "python",
   "name": "python3"
  },
  "language_info": {
   "codemirror_mode": {
    "name": "ipython",
    "version": 3
   },
   "file_extension": ".py",
   "mimetype": "text/x-python",
   "name": "python",
   "nbconvert_exporter": "python",
   "pygments_lexer": "ipython3",
   "version": "3.10.11"
  }
 },
 "nbformat": 4,
 "nbformat_minor": 5
}
